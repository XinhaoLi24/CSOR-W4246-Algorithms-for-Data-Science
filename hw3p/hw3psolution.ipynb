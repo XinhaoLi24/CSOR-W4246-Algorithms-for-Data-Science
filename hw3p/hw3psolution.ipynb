{
 "cells": [
  {
   "cell_type": "markdown",
   "metadata": {},
   "source": [
    "# Max Flow Applications\n",
    "\n",
    "The purpose of this assignment is to investigate applications of finding a Max Flow. The problem asks you to design and implement an algorithm for shipping a material between nodes with different supply and demand requirements.\n",
    "\n",
    "* Please write code *only* in the bodies of the two functions, that is, following the TODO comments.\n",
    "* Be careful not to use variables defined outside of the functions.\n",
    "* Breaking the two above rules may lead to 0 grades."
   ]
  },
  {
   "cell_type": "markdown",
   "metadata": {},
   "source": [
    "## Movie distribution\n",
    "\n",
    "First solve Problem 2 from hw3t. \n",
    "\n",
    "Now suppose a movie distributor would like to ship a copy of a film from CA to every other state. There are therefore 48 units to ship out of CA, and each other state receives 1 unit. \n",
    "\n",
    "The dataset contiguous-usa.dat lists the adjacent states in the US. Each line lists two adjacent states; thus AK and HI are omitted, but DC is included in the data. The following code reads in the graph of US states."
   ]
  },
  {
   "cell_type": "code",
   "execution_count": 1,
   "metadata": {},
   "outputs": [],
   "source": [
    "import networkx as nx\n",
    "G = nx.Graph()\n",
    "\n",
    "usa = open('contiguous-usa.dat')\n",
    "for line in usa:\n",
    "    s1, s2 = line.strip().split()\n",
    "    G.add_edge(s1, s2)"
   ]
  },
  {
   "cell_type": "markdown",
   "metadata": {},
   "source": [
    "We now encode the demands into the graph."
   ]
  },
  {
   "cell_type": "code",
   "execution_count": 2,
   "metadata": {},
   "outputs": [],
   "source": [
    "for state in G.nodes():\n",
    "    if state != 'CA':\n",
    "        G.nodes[state]['demand'] = 1\n",
    "G.nodes['CA']['demand'] = -48"
   ]
  },
  {
   "cell_type": "markdown",
   "metadata": {},
   "source": [
    "We will assign a uniform capacity of 16 to each edge. Since CA has only three adjacent states, this is the smallest possible uniform capacity that allows one to ship all 48 units out of CA. As we have created an undirected graph, and flows have directions, we first convert the graph to a directed graph."
   ]
  },
  {
   "cell_type": "code",
   "execution_count": 3,
   "metadata": {},
   "outputs": [],
   "source": [
    "G = nx.DiGraph(G)\n",
    "uniform_capacity = 16\n",
    "for (s1, s2) in G.edges():\n",
    "    G.edges[s1, s2]['capacity'] = uniform_capacity"
   ]
  },
  {
   "cell_type": "markdown",
   "metadata": {},
   "source": [
    "Complete the following function to implement your algorithm to find a flow with demands. Your function should work correctly for any input, not just the movie instance considered here. As always, you are encouraged to define auxiliary functions as needed for clarity."
   ]
  },
  {
   "cell_type": "code",
   "execution_count": 4,
   "metadata": {},
   "outputs": [],
   "source": [
    "def flow_with_demands(graph):\n",
    "    \"\"\"Computes a flow with demands over the given graph.\n",
    "    \n",
    "    Args:\n",
    "        graph: A directed graph with nodes annotated with 'demand' properties and edges annotated with 'capacity' \n",
    "            properties.\n",
    "        \n",
    "    Returns:\n",
    "        A dict of dicts containing the flow on each edge. For instance, flow[s1][s2] should provide the flow along\n",
    "        edge (s1, s2).\n",
    "        \n",
    "    Raises:\n",
    "        NetworkXUnfeasible: An error is thrown if there is no flow satisfying the demands.\n",
    "    \"\"\"\n",
    "    # Check whether the sum of demands is equal to zero.\n",
    "    sum_demands = 0\n",
    "    for node in graph.nodes():\n",
    "        sum_demands += graph.nodes[node]['demand']\n",
    "    \n",
    "    if sum_demands != 0:\n",
    "        raise nx.NetworkXUnfeasible('An error is thrown if there is no flow satisfying the demands.')\n",
    "    \n",
    "    \n",
    "    # Create a copy of the graph\n",
    "    G = graph.copy()\n",
    "    \n",
    "    # Add super source node\n",
    "    G.add_node('super_source_node')\n",
    "    \n",
    "    # Add super sink node\n",
    "    G.add_node('super_sink_node')\n",
    "    \n",
    "    # Define total demand\n",
    "    total_demand = 0\n",
    "    \n",
    "    for node in graph.nodes():\n",
    "        # Sink node\n",
    "        if graph.nodes[node]['demand'] > 0:\n",
    "            # Build edges between sink node with super sink node\n",
    "            G.add_edge(node, 'super_sink_node')\n",
    "            # Assigning new capacity to the new built edge\n",
    "            G.edges[node, 'super_sink_node']['capacity'] = graph.nodes[node]['demand']\n",
    "            # Caculate the total demand\n",
    "            total_demand += graph.nodes[node]['demand']\n",
    "            \n",
    "        # Source node\n",
    "        elif graph.nodes[node]['demand'] < 0:\n",
    "            # Build edges between source node with super source node\n",
    "            G.add_edge('super_source_node', node)\n",
    "            # Assigning new capacity to the new built edge\n",
    "            G.edges['super_source_node', node]['capacity'] = -graph.nodes[node]['demand']\n",
    "            \n",
    "    # Run max-flow to find a maximum single-commodity flow\n",
    "    flow, flow_dict = nx.maximum_flow(flowG=G, _s='super_source_node', _t='super_sink_node')\n",
    "    \n",
    "    # Remove new added pesudo source and sink nodes from flow dict keys \n",
    "    flow_dict = {i:flow_dict[i] for i in flow_dict if (i!=\"super_source_node\" )}\n",
    "    flow_dict = {i:flow_dict[i] for i in flow_dict if (i!=\"super_sink_node\" )}\n",
    "\n",
    "    # Remove new added pesudo source and sink nodes from dict in flow dict values\n",
    "    for j in flow_dict.keys():\n",
    "        flow_dict[j]= {i:flow_dict[j][i] for i in flow_dict[j] if  i!=\"super_sink_node\"}\n",
    "        flow_dict[j]= {i:flow_dict[j][i] for i in flow_dict[j] if  i!=\"super_source_node\"}\n",
    "    \n",
    "    # Return the results\n",
    "    if total_demand != flow:\n",
    "        raise nx.NetworkXUnfeasible('An error is thrown if there is no flow satisfying the demands.')\n",
    "    else:\n",
    "        return flow_dict"
   ]
  },
  {
   "cell_type": "markdown",
   "metadata": {},
   "source": [
    "To verify that your solution is correct, implement a function that computes the total flow into each node (which will be negative for supply nodes)."
   ]
  },
  {
   "cell_type": "code",
   "execution_count": 5,
   "metadata": {},
   "outputs": [],
   "source": [
    "def divergence(flow):\n",
    "    \"\"\"Computes the total flow into each node according to the given flow dict.\n",
    "    \n",
    "    Args:\n",
    "        flow: the flow dict recording flow between nodes.\n",
    "        \n",
    "    Returns:\n",
    "        A dict of the net flow into each node.\n",
    "    \"\"\"\n",
    "    flow_in = {node:0 for node in flow}\n",
    "    flow_out = {node:0 for node in flow}\n",
    "    \n",
    "    for u in flow:\n",
    "        for v in flow[u]:\n",
    "            flow_out[u] += flow[u][v]\n",
    "            flow_in[v] += flow[u][v]\n",
    "            \n",
    "    return {node:flow_in[node] - flow_out[node] for node in flow}"
   ]
  },
  {
   "cell_type": "markdown",
   "metadata": {},
   "source": [
    "The following code performs a sanity check on your function (but does not completely confirm correctness)."
   ]
  },
  {
   "cell_type": "code",
   "execution_count": 6,
   "metadata": {},
   "outputs": [
    {
     "name": "stdout",
     "output_type": "stream",
     "text": [
      "Flow satisfies all demands: True\n"
     ]
    }
   ],
   "source": [
    "# flow = flow_with_demands(G)\n",
    "# div = divergence(flow)\n",
    "# print (\"Flow satisfies all demands:\", all(div[n] == G.nodes[n]['demand'] for n in G.nodes()))"
   ]
  },
  {
   "cell_type": "code",
   "execution_count": null,
   "metadata": {},
   "outputs": [],
   "source": []
  }
 ],
 "metadata": {
  "kernelspec": {
   "display_name": "Python 3 (ipykernel)",
   "language": "python",
   "name": "python3"
  },
  "language_info": {
   "codemirror_mode": {
    "name": "ipython",
    "version": 3
   },
   "file_extension": ".py",
   "mimetype": "text/x-python",
   "name": "python",
   "nbconvert_exporter": "python",
   "pygments_lexer": "ipython3",
   "version": "3.8.13"
  }
 },
 "nbformat": 4,
 "nbformat_minor": 1
}
